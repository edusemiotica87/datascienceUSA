{
 "cells": [
  {
   "cell_type": "markdown",
   "id": "ea878b45-2a4d-457c-bace-37cd1e3d2782",
   "metadata": {},
   "source": [
    "# Data Science Tools and Ecosystem"
   ]
  },
  {
   "cell_type": "markdown",
   "id": "c71779e1-3177-4055-918c-d1deb2f39d30",
   "metadata": {},
   "source": [
    "In this notebook, Data Science Tools and Ecosystem are summarized."
   ]
  },
  {
   "cell_type": "markdown",
   "id": "f99f623a-b79a-41b6-827c-6efb12380c36",
   "metadata": {},
   "source": [
    "Some of the popular languages that Data Scientists use are:\n",
    "1. R\n",
    "2. Python\n",
    "3. SQL"
   ]
  },
  {
   "cell_type": "markdown",
   "id": "3387053b-1fb2-4a24-8d81-620b447f0d57",
   "metadata": {},
   "source": [
    "Some of the commonly used libraries used by Data Scientists include:\n",
    "1. ggplot\n",
    "2. Plotly\n",
    "3. Lattice\n",
    "4. Leaflet"
   ]
  },
  {
   "cell_type": "markdown",
   "id": "245ff493-a793-4dc2-8526-bb10fb0584bc",
   "metadata": {},
   "source": [
    "| Data Science Tools |\n",
    "| ------------------ |\n",
    "| GitHub |\n",
    "| R and R Studio |\n",
    "| MySPL |"
   ]
  },
  {
   "cell_type": "markdown",
   "id": "90f4aecf-bb76-4b27-bb70-527e891d74f0",
   "metadata": {},
   "source": [
    "### Below are a few examples of evaluating arithmetic expressions in Python"
   ]
  },
  {
   "cell_type": "code",
   "execution_count": 2,
   "id": "a3c3f343-2425-469a-b75a-3bf370a080b9",
   "metadata": {},
   "outputs": [
    {
     "data": {
      "text/plain": [
       "5"
      ]
     },
     "execution_count": 2,
     "metadata": {},
     "output_type": "execute_result"
    }
   ],
   "source": [
    "2 + 3"
   ]
  },
  {
   "cell_type": "code",
   "execution_count": 3,
   "id": "00f3c80d-0351-434c-bb32-54d732e16fee",
   "metadata": {},
   "outputs": [
    {
     "data": {
      "text/plain": [
       "160"
      ]
     },
     "execution_count": 3,
     "metadata": {},
     "output_type": "execute_result"
    }
   ],
   "source": [
    "5 * 32"
   ]
  },
  {
   "cell_type": "code",
   "execution_count": 4,
   "id": "294e5080-3514-4214-b2cc-c492a989268d",
   "metadata": {},
   "outputs": [
    {
     "data": {
      "text/plain": [
       "0.00044589774078478004"
      ]
     },
     "execution_count": 4,
     "metadata": {},
     "output_type": "execute_result"
    }
   ],
   "source": [
    "6 / 13456"
   ]
  },
  {
   "cell_type": "markdown",
   "id": "1aa03415-482c-453d-8dcc-56ace50a7160",
   "metadata": {},
   "source": [
    "This a simple arithmetic expression to mutiply then add integers"
   ]
  },
  {
   "cell_type": "code",
   "execution_count": 2,
   "id": "8f206cfd-6574-4a38-9b81-919f0945c323",
   "metadata": {},
   "outputs": [
    {
     "data": {
      "text/plain": [
       "17"
      ]
     },
     "execution_count": 2,
     "metadata": {},
     "output_type": "execute_result"
    }
   ],
   "source": [
    "(3*4)+5"
   ]
  },
  {
   "cell_type": "markdown",
   "id": "fe4ad93b-b373-4761-9418-9c29a238e90e",
   "metadata": {},
   "source": [
    "This will convert 200 minutes to hours by diving by 60"
   ]
  },
  {
   "cell_type": "code",
   "execution_count": 3,
   "id": "172b588a-e52c-4735-a382-22cd7787b721",
   "metadata": {},
   "outputs": [
    {
     "data": {
      "text/plain": [
       "3.3333333333333335"
      ]
     },
     "execution_count": 3,
     "metadata": {},
     "output_type": "execute_result"
    }
   ],
   "source": [
    "minutos = 200\n",
    "horas = minutos / 60\n",
    "\n",
    "horas"
   ]
  },
  {
   "cell_type": "markdown",
   "id": "8e437d9a-0126-4cce-905a-71faa27c60d2",
   "metadata": {},
   "source": [
    "## Author\n",
    "Sergio Alejandro Rodríguez Jerez"
   ]
  },
  {
   "cell_type": "code",
   "execution_count": null,
   "id": "b3f9f2a4-3f2a-4aa8-8d98-904729c52677",
   "metadata": {},
   "outputs": [],
   "source": []
  },
  {
   "cell_type": "code",
   "execution_count": null,
   "id": "fb8c76e5-fa22-4b25-97a9-103f8e003f05",
   "metadata": {},
   "outputs": [],
   "source": []
  }
 ],
 "metadata": {
  "kernelspec": {
   "display_name": "Python 3 (ipykernel)",
   "language": "python",
   "name": "python3"
  },
  "language_info": {
   "codemirror_mode": {
    "name": "ipython",
    "version": 3
   },
   "file_extension": ".py",
   "mimetype": "text/x-python",
   "name": "python",
   "nbconvert_exporter": "python",
   "pygments_lexer": "ipython3",
   "version": "3.12.2"
  }
 },
 "nbformat": 4,
 "nbformat_minor": 5
}
